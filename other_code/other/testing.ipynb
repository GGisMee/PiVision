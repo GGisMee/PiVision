{
 "cells": [
  {
   "cell_type": "code",
   "execution_count": null,
   "metadata": {},
   "outputs": [
    {
     "name": "stdout",
     "output_type": "stream",
     "text": [
      "Video shape: Width = 1280, Height = 720\n"
     ]
    }
   ],
   "source": [
    "# import cv2\n",
    "\n",
    "# # Path to the video file\n",
    "# video_path = 'video_test2.mp4'\n",
    "\n",
    "# # Open the video file\n",
    "# cap = cv2.VideoCapture(video_path)\n",
    "\n",
    "# if not cap.isOpened():\n",
    "#     print(\"Error: Could not open the video file.\")\n",
    "# else:\n",
    "#     # Get the width and height of the video (frame dimensions)\n",
    "#     width = int(cap.get(cv2.CAP_PROP_FRAME_WIDTH))\n",
    "#     height = int(cap.get(cv2.CAP_PROP_FRAME_HEIGHT))\n",
    "    \n",
    "#     print(f\"Video shape: Width = {width}, Height = {height}\")\n",
    "    \n",
    "#     # Release the video capture object\n",
    "#     cap.release()\n"
   ]
  }
 ],
 "metadata": {
  "kernelspec": {
   "display_name": "venv_hailo_rpi5_examples",
   "language": "python",
   "name": "python3"
  },
  "language_info": {
   "codemirror_mode": {
    "name": "ipython",
    "version": 3
   },
   "file_extension": ".py",
   "mimetype": "text/x-python",
   "name": "python",
   "nbconvert_exporter": "python",
   "pygments_lexer": "ipython3",
   "version": "3.11.2"
  }
 },
 "nbformat": 4,
 "nbformat_minor": 2
}
